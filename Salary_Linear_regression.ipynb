{
 "cells": [
  {
   "cell_type": "markdown",
   "id": "ebfe141a",
   "metadata": {},
   "source": [
    "# Linear regression\n",
    "\n",
    "## Data set from Kaggle: \n",
    "\n",
    "https://www.kaggle.com/datasets/karthickveerakumar/salary-data-simple-linear-regression\n",
    "\n",
    " 19/05/2022"
   ]
  },
  {
   "cell_type": "markdown",
   "id": "d76010ca",
   "metadata": {},
   "source": [
    "### 1. Import packages"
   ]
  },
  {
   "cell_type": "code",
   "execution_count": 4,
   "id": "fd06d762",
   "metadata": {},
   "outputs": [],
   "source": [
    "import numpy as np\n",
    "import pandas as pd\n",
    "import matplotlib.pyplot as plt\n",
    "import seaborn as sns"
   ]
  },
  {
   "cell_type": "markdown",
   "id": "dd3b3a65",
   "metadata": {},
   "source": [
    "### 2. Import data set"
   ]
  },
  {
   "cell_type": "code",
   "execution_count": 5,
   "id": "666cb3c1",
   "metadata": {},
   "outputs": [],
   "source": [
    "path = './datasets/Salary_Data.csv'\n",
    "data = pd.read_csv(path)"
   ]
  },
  {
   "cell_type": "code",
   "execution_count": 6,
   "id": "0da7f1c6",
   "metadata": {},
   "outputs": [
    {
     "data": {
      "text/html": [
       "<div>\n",
       "<style scoped>\n",
       "    .dataframe tbody tr th:only-of-type {\n",
       "        vertical-align: middle;\n",
       "    }\n",
       "\n",
       "    .dataframe tbody tr th {\n",
       "        vertical-align: top;\n",
       "    }\n",
       "\n",
       "    .dataframe thead th {\n",
       "        text-align: right;\n",
       "    }\n",
       "</style>\n",
       "<table border=\"1\" class=\"dataframe\">\n",
       "  <thead>\n",
       "    <tr style=\"text-align: right;\">\n",
       "      <th></th>\n",
       "      <th>YearsExperience</th>\n",
       "      <th>Salary</th>\n",
       "    </tr>\n",
       "  </thead>\n",
       "  <tbody>\n",
       "    <tr>\n",
       "      <th>0</th>\n",
       "      <td>1.1</td>\n",
       "      <td>39343.0</td>\n",
       "    </tr>\n",
       "    <tr>\n",
       "      <th>1</th>\n",
       "      <td>1.3</td>\n",
       "      <td>46205.0</td>\n",
       "    </tr>\n",
       "    <tr>\n",
       "      <th>2</th>\n",
       "      <td>1.5</td>\n",
       "      <td>37731.0</td>\n",
       "    </tr>\n",
       "    <tr>\n",
       "      <th>3</th>\n",
       "      <td>2.0</td>\n",
       "      <td>43525.0</td>\n",
       "    </tr>\n",
       "    <tr>\n",
       "      <th>4</th>\n",
       "      <td>2.2</td>\n",
       "      <td>39891.0</td>\n",
       "    </tr>\n",
       "  </tbody>\n",
       "</table>\n",
       "</div>"
      ],
      "text/plain": [
       "   YearsExperience   Salary\n",
       "0              1.1  39343.0\n",
       "1              1.3  46205.0\n",
       "2              1.5  37731.0\n",
       "3              2.0  43525.0\n",
       "4              2.2  39891.0"
      ]
     },
     "execution_count": 6,
     "metadata": {},
     "output_type": "execute_result"
    }
   ],
   "source": [
    "data.head()"
   ]
  },
  {
   "cell_type": "code",
   "execution_count": 7,
   "id": "f29e1e98",
   "metadata": {},
   "outputs": [
    {
     "data": {
      "text/html": [
       "<div>\n",
       "<style scoped>\n",
       "    .dataframe tbody tr th:only-of-type {\n",
       "        vertical-align: middle;\n",
       "    }\n",
       "\n",
       "    .dataframe tbody tr th {\n",
       "        vertical-align: top;\n",
       "    }\n",
       "\n",
       "    .dataframe thead th {\n",
       "        text-align: right;\n",
       "    }\n",
       "</style>\n",
       "<table border=\"1\" class=\"dataframe\">\n",
       "  <thead>\n",
       "    <tr style=\"text-align: right;\">\n",
       "      <th></th>\n",
       "      <th>YearsExperience</th>\n",
       "      <th>Salary</th>\n",
       "    </tr>\n",
       "  </thead>\n",
       "  <tbody>\n",
       "    <tr>\n",
       "      <th>25</th>\n",
       "      <td>9.0</td>\n",
       "      <td>105582.0</td>\n",
       "    </tr>\n",
       "    <tr>\n",
       "      <th>26</th>\n",
       "      <td>9.5</td>\n",
       "      <td>116969.0</td>\n",
       "    </tr>\n",
       "    <tr>\n",
       "      <th>27</th>\n",
       "      <td>9.6</td>\n",
       "      <td>112635.0</td>\n",
       "    </tr>\n",
       "    <tr>\n",
       "      <th>28</th>\n",
       "      <td>10.3</td>\n",
       "      <td>122391.0</td>\n",
       "    </tr>\n",
       "    <tr>\n",
       "      <th>29</th>\n",
       "      <td>10.5</td>\n",
       "      <td>121872.0</td>\n",
       "    </tr>\n",
       "  </tbody>\n",
       "</table>\n",
       "</div>"
      ],
      "text/plain": [
       "    YearsExperience    Salary\n",
       "25              9.0  105582.0\n",
       "26              9.5  116969.0\n",
       "27              9.6  112635.0\n",
       "28             10.3  122391.0\n",
       "29             10.5  121872.0"
      ]
     },
     "execution_count": 7,
     "metadata": {},
     "output_type": "execute_result"
    }
   ],
   "source": [
    "data.tail()"
   ]
  },
  {
   "cell_type": "code",
   "execution_count": 8,
   "id": "53b8b26e",
   "metadata": {},
   "outputs": [
    {
     "data": {
      "text/html": [
       "<div>\n",
       "<style scoped>\n",
       "    .dataframe tbody tr th:only-of-type {\n",
       "        vertical-align: middle;\n",
       "    }\n",
       "\n",
       "    .dataframe tbody tr th {\n",
       "        vertical-align: top;\n",
       "    }\n",
       "\n",
       "    .dataframe thead th {\n",
       "        text-align: right;\n",
       "    }\n",
       "</style>\n",
       "<table border=\"1\" class=\"dataframe\">\n",
       "  <thead>\n",
       "    <tr style=\"text-align: right;\">\n",
       "      <th></th>\n",
       "      <th>YearsExperience</th>\n",
       "      <th>Salary</th>\n",
       "    </tr>\n",
       "  </thead>\n",
       "  <tbody>\n",
       "    <tr>\n",
       "      <th>count</th>\n",
       "      <td>30.000000</td>\n",
       "      <td>30.000000</td>\n",
       "    </tr>\n",
       "    <tr>\n",
       "      <th>mean</th>\n",
       "      <td>5.313333</td>\n",
       "      <td>76003.000000</td>\n",
       "    </tr>\n",
       "    <tr>\n",
       "      <th>std</th>\n",
       "      <td>2.837888</td>\n",
       "      <td>27414.429785</td>\n",
       "    </tr>\n",
       "    <tr>\n",
       "      <th>min</th>\n",
       "      <td>1.100000</td>\n",
       "      <td>37731.000000</td>\n",
       "    </tr>\n",
       "    <tr>\n",
       "      <th>25%</th>\n",
       "      <td>3.200000</td>\n",
       "      <td>56720.750000</td>\n",
       "    </tr>\n",
       "    <tr>\n",
       "      <th>50%</th>\n",
       "      <td>4.700000</td>\n",
       "      <td>65237.000000</td>\n",
       "    </tr>\n",
       "    <tr>\n",
       "      <th>75%</th>\n",
       "      <td>7.700000</td>\n",
       "      <td>100544.750000</td>\n",
       "    </tr>\n",
       "    <tr>\n",
       "      <th>max</th>\n",
       "      <td>10.500000</td>\n",
       "      <td>122391.000000</td>\n",
       "    </tr>\n",
       "  </tbody>\n",
       "</table>\n",
       "</div>"
      ],
      "text/plain": [
       "       YearsExperience         Salary\n",
       "count        30.000000      30.000000\n",
       "mean          5.313333   76003.000000\n",
       "std           2.837888   27414.429785\n",
       "min           1.100000   37731.000000\n",
       "25%           3.200000   56720.750000\n",
       "50%           4.700000   65237.000000\n",
       "75%           7.700000  100544.750000\n",
       "max          10.500000  122391.000000"
      ]
     },
     "execution_count": 8,
     "metadata": {},
     "output_type": "execute_result"
    }
   ],
   "source": [
    "data.describe()"
   ]
  },
  {
   "cell_type": "code",
   "execution_count": 9,
   "id": "0f9f256c",
   "metadata": {},
   "outputs": [
    {
     "data": {
      "text/plain": [
       "YearsExperience    0\n",
       "Salary             0\n",
       "dtype: int64"
      ]
     },
     "execution_count": 9,
     "metadata": {},
     "output_type": "execute_result"
    }
   ],
   "source": [
    "data.isnull().sum()"
   ]
  },
  {
   "cell_type": "code",
   "execution_count": 10,
   "id": "02ebec6e",
   "metadata": {},
   "outputs": [
    {
     "data": {
      "image/png": "[encoded data removed]",
      "text/plain": [
       "<Figure size 432x288 with 1 Axes>"
      ]
     },
     "metadata": {
      "needs_background": "light"
     },
     "output_type": "display_data"
    }
   ],
   "source": [
    "plt.scatter(x= data['YearsExperience'], y = data['Salary'])\n",
    "plt.xlabel('Experience (years)')\n",
    "plt.ylabel('Salary')\n",
    "plt.title('Data visualization\\nSalary vs Experience')\n",
    "plt.show()"
   ]
  },
  {
   "cell_type": "markdown",
   "id": "297b3bcc",
   "metadata": {},
   "source": [
    "## Finding the best equation fit using Gradient Descent"
   ]
  },
  {
   "cell_type": "code",
   "execution_count": 11,
   "id": "4cbf2228",
   "metadata": {},
   "outputs": [
    {
     "name": "stdout",
     "output_type": "stream",
     "text": [
      "Convergence FOUND!\n",
      "Theta0 = 25273.191058621178\n",
      "Theta1 = 9526.981104965911\n"
     ]
    }
   ],
   "source": [
    "X = data['YearsExperience']\n",
    "y = data['Salary']\n",
    "\n",
    "max_iter = 1000\n",
    "eps = 500\n",
    "alpha = 0.01\n",
    "\n",
    "th0 = 0\n",
    "th1 = 0\n",
    "th = np.array([th0, th1])\n",
    "\n",
    "m = len(X)\n",
    "\n",
    "costs = []\n",
    "\n",
    "for i in range(max_iter):\n",
    "    \n",
    "    partial0 = 2/m * np.sum(th[0] + th[1] * X -y)\n",
    "    partial1 = 2/m * np.sum((th[0] + th[1] * X -y) * X)\n",
    "    partgrad = np.array([partial0, partial1])\n",
    "\n",
    "    J = np.sum(((th[0] + th[1] * X)-y)**2)/m\n",
    "    \n",
    "    costs.append(J)\n",
    "\n",
    "    th0_ = th[0] - alpha * partgrad[0]\n",
    "    th1_ = th[1] - alpha * partgrad[1]\n",
    "    th_ = np.array([th0_, th1_])\n",
    "\n",
    "    J_ = np.sum(((th_[0] + th_[1] * X)-y)**2)/m\n",
    "\n",
    "    deltaJ = np.abs(J_- J)\n",
    "    \n",
    "    J = J_\n",
    "    th = th_\n",
    "    \n",
    "    if deltaJ < eps:\n",
    "        break\n",
    "print(\"Convergence FOUND!\")\n",
    "print(f\"Theta0 = {th[0]}\\nTheta1 = {th[1]}\")"
   ]
  },
  {
   "cell_type": "code",
   "execution_count": 12,
   "id": "b1abe6fb",
   "metadata": {},
   "outputs": [
    {
     "data": {
      "text/plain": [
       "903"
      ]
     },
     "execution_count": 12,
     "metadata": {},
     "output_type": "execute_result"
    }
   ],
   "source": [
    "len(costs)"
   ]
  },
  {
   "cell_type": "code",
   "execution_count": 13,
   "id": "7b9f438e",
   "metadata": {},
   "outputs": [
    {
     "data": {
      "image/png": "[encoded data removed]",
      "text/plain": [
       "<Figure size 432x288 with 1 Axes>"
      ]
     },
     "metadata": {
      "needs_background": "light"
     },
     "output_type": "display_data"
    }
   ],
   "source": [
    "plt.plot(X,th[1]*X+th[0],'g-')\n",
    "plt.scatter(X, y)\n",
    "plt.xlabel('Experience (years)')\n",
    "plt.ylabel('Salary')\n",
    "plt.title('Linear Fit\\nSalary vs Experience')\n",
    "plt.grid(True)"
   ]
  },
  {
   "cell_type": "markdown",
   "id": "4959868f",
   "metadata": {},
   "source": [
    "# Creating a function of gradient descent"
   ]
  },
  {
   "cell_type": "code",
   "execution_count": 18,
   "id": "bcb60a1a",
   "metadata": {},
   "outputs": [],
   "source": [
    "def gradient_descent(X, y, theta0 = 0, theta1 = 0, eps = 0.01, max_iter = 10000, alpha = 0.01):\n",
    "    '''\n",
    "    This function implements gradient descent to perform a linear fit.\n",
    "    Returns a dictionary of all thetas, costs and total iters.\n",
    "    '''\n",
    "    def cost_function(X,y):\n",
    "        return lambda theta0, theta1: np.sum(((theta0 + theta1 * X)-y)**2)/len(X)\n",
    "\n",
    "    def deriv_th0(X, y):\n",
    "        return lambda theta0, theta1: 2/len(X) * np.sum(theta0 + theta1 * X -y)\n",
    "\n",
    "    def deriv_th1(X, y):\n",
    "        return lambda theta0, theta1: 2/len(X) * np.sum((theta0 + theta1 * X -y) * X)\n",
    "    \n",
    "    J = cost_function(X,y)\n",
    "    Dtheta0 = deriv_th0(X,y)\n",
    "    Dtheta1 = deriv_th1(X,y)\n",
    "    cost = J(theta0, theta1)\n",
    "    \n",
    "    \n",
    "    summary_theta = [[theta0, theta1]]\n",
    "    summary_cost = [cost]\n",
    "    \n",
    "    for i in range(max_iter):\n",
    "        th0_ = theta0 - alpha * Dtheta0(theta0, theta1)\n",
    "        th1_ = theta1 - alpha * Dtheta1(theta0, theta1)\n",
    "        \n",
    "        cost_ = J(th0_,th1_)\n",
    "        \n",
    "        deltaCost = abs(cost - cost_)\n",
    "        \n",
    "        theta0 = th0_\n",
    "        theta1 = th1_\n",
    "        cost = cost_\n",
    "        \n",
    "        summary_theta.append([theta0, theta1])\n",
    "        summary_cost.append(cost)\n",
    "        \n",
    "        if deltaCost < eps:\n",
    "            break\n",
    "            \n",
    "    iters = len(summary_cost)-1\n",
    "    results = {'thetas': summary_theta,\n",
    "               'costs' : summary_cost,\n",
    "               'iters' : iters\n",
    "              }\n",
    "    return results\n",
    "                "
   ]
  },
  {
   "cell_type": "code",
   "execution_count": 19,
   "id": "83080975",
   "metadata": {},
   "outputs": [],
   "source": [
    "results_salary = gradient_descent(data['YearsExperience'], data['Salary'], max_iter = 1000, eps = 500)"
   ]
  },
  {
   "cell_type": "code",
   "execution_count": 20,
   "id": "7c2e889a",
   "metadata": {},
   "outputs": [],
   "source": [
    "thetas = np.array(results_salary['thetas'])\n",
    "costs = np.array(results_salary['costs'])\n",
    "th0 = thetas[:, 0]\n",
    "th1 = thetas[:, 1]\n"
   ]
  },
  {
   "cell_type": "code",
   "execution_count": 22,
   "id": "3dcac0dc",
   "metadata": {},
   "outputs": [
    {
     "name": "stdout",
     "output_type": "stream",
     "text": [
      "Theta0 = 25273.191058621178\n",
      "Theta1 = 9526.981104965911\n"
     ]
    }
   ],
   "source": [
    "print(f'Theta0 = {th0[-1]}\\nTheta1 = {th1[-1]}')"
   ]
  },
  {
   "cell_type": "code",
   "execution_count": 23,
   "id": "1ce29fd0",
   "metadata": {},
   "outputs": [
    {
     "data": {
      "image/png": "[encoded data removed]",
      "text/plain": [
       "<Figure size 432x288 with 1 Axes>"
      ]
     },
     "metadata": {
      "needs_background": "light"
     },
     "output_type": "display_data"
    }
   ],
   "source": [
    "plt.plot(X,th1[-1]*X+th0[-1],'g-')\n",
    "plt.scatter(X, y)\n",
    "plt.xlabel('Experience (years)')\n",
    "plt.ylabel('Salary')\n",
    "plt.title('Linear Fit\\nSalary vs Experience')\n",
    "plt.grid(True)"
   ]
  }
 ],
 "metadata": {
  "kernelspec": {
   "display_name": "Python 3 (ipykernel)",
   "language": "python",
   "name": "python3"
  },
  "language_info": {
   "codemirror_mode": {
    "name": "ipython",
    "version": 3
   },
   "file_extension": ".py",
   "mimetype": "text/x-python",
   "name": "python",
   "nbconvert_exporter": "python",
   "pygments_lexer": "ipython3",
   "version": "3.8.11"
  }
 },
 "nbformat": 4,
 "nbformat_minor": 5
}
